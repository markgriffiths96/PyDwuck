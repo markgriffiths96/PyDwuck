{
 "cells": [
  {
   "cell_type": "code",
   "execution_count": 2,
   "id": "71c99d9f-70a6-471a-a48b-11232c57f488",
   "metadata": {},
   "outputs": [],
   "source": [
    "def simulation_calculations(vectPol,tensPol):    \n",
    "    \n",
    "    #Needed for the confidence interval\n",
    "    import numpy as np\n",
    "    \n",
    "    # Crop the output using start and stop tags so it only contains relevant information\n",
    "    TAG_start = '0 Theta Inelsig,fm**2      Polz       Asy       Ayy       A22       A21       A20       T22       T21       T20  Theta'\n",
    "    TAG_stop = '0Tot-sig'\n",
    "\n",
    "    tag_found = False\n",
    "    with open('program_output.txt') as in_file:\n",
    "        with open('cropped_output.txt', 'w') as out_file:\n",
    "            for line in in_file:\n",
    "                if not tag_found:\n",
    "                    if line.strip() == TAG_start:\n",
    "                        tag_found = True    # When start tag is found, update    \n",
    "                else:\n",
    "                    if line.startswith(TAG_stop):   \n",
    "                        tag_found = False                    \n",
    "                    else: out_file.write(line) #Print output to file until stop tag is found\n",
    "\n",
    "    # Open the output and retrieve relevant data                \n",
    "    f=open('cropped_output.txt',\"r\")\n",
    "    lines=f.readlines()\n",
    "    ang_sim = []\n",
    "    cs_sim=[]\n",
    "    ap_sim=[]\n",
    "    vap_sim=[]\n",
    "    for x in lines:\n",
    "        x = x.strip()\n",
    "        ang_sim.append(float(x.split('    ')[0]))\n",
    "        cs_sim.append(float(x.split('   ')[1]))\n",
    "        vap_sim.append(float(x.split('   ')[3]))\n",
    "        ap_sim.append(float(x.split('   ')[4]))\n",
    "    f.close()   \n",
    "    \n",
    "    dcs_sim=[]\n",
    "    \n",
    "    for i in range(len(cs_sim)):\n",
    "        dcs_sim.append(cs_sim[i]*(1+tensPol*ap_sim[i]/2))\n",
    "        vap_sim[i] = vap_sim[i]*cs_sim[i]*(1+tensPol*ap_sim[i]/2)/dcs_sim[i]\n",
    "  \n",
    "    dcs_ci = (sum(dcs_sim)/len(dcs_sim))/20\n",
    "    np_dcs_sim = np.array(dcs_sim)\n",
    "    vap_ci = (sum(map(abs, vap_sim))/len(vap_sim))/20\n",
    "    np_vap_sim = np.array(vap_sim)\n",
    "        \n",
    "    return dcs_sim, vap_sim, ang_sim, dcs_ci, np_dcs_sim, vap_ci, np_vap_sim"
   ]
  },
  {
   "cell_type": "code",
   "execution_count": null,
   "id": "c24af3e6-6457-48cb-af96-d33b610a0264",
   "metadata": {},
   "outputs": [],
   "source": []
  }
 ],
 "metadata": {
  "kernelspec": {
   "display_name": "Python 3",
   "language": "python",
   "name": "python3"
  },
  "language_info": {
   "codemirror_mode": {
    "name": "ipython",
    "version": 3
   },
   "file_extension": ".py",
   "mimetype": "text/x-python",
   "name": "python",
   "nbconvert_exporter": "python",
   "pygments_lexer": "ipython3",
   "version": "3.8.10"
  }
 },
 "nbformat": 4,
 "nbformat_minor": 5
}
